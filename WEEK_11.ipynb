{
  "cells": [
    {
      "cell_type": "code",
      "execution_count": null,
      "metadata": {
        "colab": {
          "base_uri": "https://localhost:8080/"
        },
        "id": "yuz6jJrnoKl0",
        "outputId": "0f29c507-e1e2-4a99-c585-1b4d5a8e5ed7"
      },
      "outputs": [
        {
          "output_type": "stream",
          "name": "stdout",
          "text": [
            "Requirement already satisfied: kagglehub in /usr/local/lib/python3.10/dist-packages (0.3.3)\n",
            "Requirement already satisfied: packaging in /usr/local/lib/python3.10/dist-packages (from kagglehub) (24.1)\n",
            "Requirement already satisfied: requests in /usr/local/lib/python3.10/dist-packages (from kagglehub) (2.32.3)\n",
            "Requirement already satisfied: tqdm in /usr/local/lib/python3.10/dist-packages (from kagglehub) (4.66.5)\n",
            "Requirement already satisfied: charset-normalizer<4,>=2 in /usr/local/lib/python3.10/dist-packages (from requests->kagglehub) (3.4.0)\n",
            "Requirement already satisfied: idna<4,>=2.5 in /usr/local/lib/python3.10/dist-packages (from requests->kagglehub) (3.10)\n",
            "Requirement already satisfied: urllib3<3,>=1.21.1 in /usr/local/lib/python3.10/dist-packages (from requests->kagglehub) (2.2.3)\n",
            "Requirement already satisfied: certifi>=2017.4.17 in /usr/local/lib/python3.10/dist-packages (from requests->kagglehub) (2024.8.30)\n"
          ]
        }
      ],
      "source": [
        "!pip install --upgrade kagglehub"
      ]
    },
    {
      "cell_type": "code",
      "execution_count": null,
      "metadata": {
        "colab": {
          "base_uri": "https://localhost:8080/"
        },
        "id": "Fnp9XcamgAGN",
        "outputId": "b2a07444-902e-4990-915e-94454fbc0eb6"
      },
      "outputs": [
        {
          "output_type": "stream",
          "name": "stdout",
          "text": [
            "Downloading from https://www.kaggle.com/api/v1/datasets/download/austinreese/craigslist-carstrucks-data?dataset_version_number=10...\n"
          ]
        },
        {
          "output_type": "stream",
          "name": "stderr",
          "text": [
            "100%|██████████| 262M/262M [00:05<00:00, 49.4MB/s]"
          ]
        },
        {
          "output_type": "stream",
          "name": "stdout",
          "text": [
            "Extracting files...\n"
          ]
        },
        {
          "output_type": "stream",
          "name": "stderr",
          "text": [
            "\n"
          ]
        },
        {
          "output_type": "stream",
          "name": "stdout",
          "text": [
            "Path to dataset files: /root/.cache/kagglehub/datasets/austinreese/craigslist-carstrucks-data/versions/10\n"
          ]
        }
      ],
      "source": [
        "import kagglehub\n",
        "\n",
        "# Download latest version\n",
        "path = kagglehub.dataset_download(\"austinreese/craigslist-carstrucks-data\")\n",
        "\n",
        "print(\"Path to dataset files:\", path)"
      ]
    },
    {
      "cell_type": "code",
      "execution_count": null,
      "metadata": {
        "id": "KlC-vhMzhash"
      },
      "outputs": [],
      "source": [
        "# Installation\n",
        "!pip install -q pandas numpy scikit-learn matplotlib seaborn"
      ]
    },
    {
      "cell_type": "code",
      "execution_count": null,
      "metadata": {
        "id": "BgrRuDhvoxaL"
      },
      "outputs": [],
      "source": [
        "# Imports\n",
        "import os\n",
        "import re\n",
        "import numpy as np\n",
        "import pandas as pd\n",
        "import sklearn as sk\n",
        "import seaborn as sns\n",
        "import matplotlib.pyplot as plt"
      ]
    },
    {
      "cell_type": "code",
      "execution_count": null,
      "metadata": {
        "id": "wGTb1B8moxuR"
      },
      "outputs": [],
      "source": [
        "pd.set_option('display.max_columns', None)\n",
        "pd.set_option('display.max_colwidth', 100)\n",
        "used_cars = pd.read_csv(os.path.join(path, 'vehicles.csv'))\n"
      ]
    },
    {
      "cell_type": "code",
      "execution_count": null,
      "metadata": {
        "id": "IpeoF_ecsaPK"
      },
      "outputs": [],
      "source": [
        "used_cars['price'] = pd.to_numeric(used_cars['price'], errors='coerce')\n",
        "used_cars['year'] = pd.to_numeric(used_cars['year'], errors='coerce')\n",
        "used_cars['odometer'] = pd.to_numeric(used_cars['odometer'], errors='coerce')"
      ]
    },
    {
      "cell_type": "code",
      "execution_count": null,
      "metadata": {
        "id": "ixHY0PR2sqGl"
      },
      "outputs": [],
      "source": [
        "categorical_cols = ['manufacturer', 'model', 'condition', 'cylinders', 'fuel', 'transmission', 'type', 'paint_color', 'title_status', 'state']\n",
        "used_cars[categorical_cols] = used_cars[categorical_cols].astype('category')"
      ]
    },
    {
      "cell_type": "code",
      "execution_count": null,
      "metadata": {
        "id": "uVW8kKlstygG"
      },
      "outputs": [],
      "source": [
        "columns_to_drop = ['id', 'url', 'region', 'region_url', 'VIN', 'image_url', 'description', 'county', 'lat', 'long']\n",
        "used_cars = used_cars.drop(columns=columns_to_drop)"
      ]
    },
    {
      "cell_type": "code",
      "execution_count": null,
      "metadata": {
        "id": "ye-fTvxBAGJz"
      },
      "outputs": [],
      "source": [
        "used_cars['posting_date'] = pd.to_datetime(used_cars['posting_date'], utc=True)"
      ]
    },
    {
      "cell_type": "code",
      "execution_count": null,
      "metadata": {
        "colab": {
          "base_uri": "https://localhost:8080/"
        },
        "id": "G64xrbkP8CgK",
        "outputId": "af717fc8-795d-4d34-e0e3-c7ba722f1d0e"
      },
      "outputs": [
        {
          "output_type": "stream",
          "name": "stdout",
          "text": [
            "<class 'pandas.core.frame.DataFrame'>\n",
            "RangeIndex: 426880 entries, 0 to 426879\n",
            "Data columns (total 16 columns):\n",
            " #   Column        Non-Null Count   Dtype              \n",
            "---  ------        --------------   -----              \n",
            " 0   price         426880 non-null  int64              \n",
            " 1   year          425675 non-null  float64            \n",
            " 2   manufacturer  409234 non-null  category           \n",
            " 3   model         421603 non-null  category           \n",
            " 4   condition     252776 non-null  category           \n",
            " 5   cylinders     249202 non-null  category           \n",
            " 6   fuel          423867 non-null  category           \n",
            " 7   odometer      422480 non-null  float64            \n",
            " 8   title_status  418638 non-null  category           \n",
            " 9   transmission  424324 non-null  category           \n",
            " 10  drive         296313 non-null  object             \n",
            " 11  size          120519 non-null  object             \n",
            " 12  type          334022 non-null  category           \n",
            " 13  paint_color   296677 non-null  category           \n",
            " 14  state         426880 non-null  category           \n",
            " 15  posting_date  426812 non-null  datetime64[ns, UTC]\n",
            "dtypes: category(10), datetime64[ns, UTC](1), float64(2), int64(1), object(2)\n",
            "memory usage: 25.3+ MB\n"
          ]
        }
      ],
      "source": [
        "used_cars.info()"
      ]
    },
    {
      "cell_type": "code",
      "execution_count": null,
      "metadata": {
        "colab": {
          "base_uri": "https://localhost:8080/"
        },
        "id": "o92Rx_YUPs8z",
        "outputId": "2ce92809-4f18-4a61-8c03-1af5f52c85b2"
      },
      "outputs": [
        {
          "output_type": "stream",
          "name": "stdout",
          "text": [
            "count    4.268800e+05\n",
            "mean     7.519903e+04\n",
            "std      1.218228e+07\n",
            "min      0.000000e+00\n",
            "25%      5.900000e+03\n",
            "50%      1.395000e+04\n",
            "75%      2.648575e+04\n",
            "max      3.736929e+09\n",
            "Name: price, dtype: float64\n"
          ]
        }
      ],
      "source": [
        "# Assuming 'data' is your DataFrame\n",
        "price_stats = used_cars['price'].describe()\n",
        "print(price_stats)\n"
      ]
    },
    {
      "cell_type": "code",
      "execution_count": null,
      "metadata": {
        "colab": {
          "base_uri": "https://localhost:8080/"
        },
        "id": "LM4cTNupo-w8",
        "outputId": "650777ef-6c51-4ea5-c68b-7cd8609450df"
      },
      "outputs": [
        {
          "output_type": "stream",
          "name": "stdout",
          "text": [
            "Feature: year\n",
            "Mann-Whitney U statistic: 404672922.5\n",
            "P-value: 7.143240704129436e-264\n",
            "Correlation with 'price': -0.00016448016397093985\n",
            "\n",
            "Feature: manufacturer\n",
            "Mann-Whitney U statistic: 3449984932.5\n",
            "P-value: 1.1496127388818606e-23\n",
            "Correlation with 'price': -0.0007104359065728912\n",
            "\n",
            "Feature: model\n",
            "Mann-Whitney U statistic: 940770810.5\n",
            "P-value: 5.7265343766695715e-83\n",
            "Correlation with 'price': 0.01042241125762487\n",
            "\n",
            "Feature: condition\n",
            "Mann-Whitney U statistic: 20669074538.5\n",
            "P-value: 6.974539610616671e-250\n",
            "Correlation with 'price': 0.0015220864665589082\n",
            "\n",
            "Feature: cylinders\n",
            "Mann-Whitney U statistic: 23912486092.5\n",
            "P-value: 0.0\n",
            "Correlation with 'price': 0.0008768493201015051\n",
            "\n",
            "Feature: fuel\n",
            "Mann-Whitney U statistic: 655396798.0\n",
            "P-value: 0.012448437335439646\n",
            "Correlation with 'price': -0.000397708870594226\n",
            "\n",
            "Feature: odometer\n",
            "Mann-Whitney U statistic: 523412465.0\n",
            "P-value: 0.0\n",
            "Correlation with 'price': -0.0005514031075180616\n",
            "\n",
            "Feature: title_status\n",
            "Mann-Whitney U statistic: 1518599260.5\n",
            "P-value: 1.193003300270282e-77\n",
            "Correlation with 'price': -0.0006962106244165088\n",
            "\n",
            "Feature: transmission\n",
            "Mann-Whitney U statistic: 446788361.5\n",
            "P-value: 2.296781855222718e-53\n",
            "Correlation with 'price': -0.0003863920735741947\n",
            "\n",
            "Feature: drive\n",
            "Mann-Whitney U statistic: 18801761966.0\n",
            "P-value: 1.8332674348907275e-48\n",
            "Correlation with 'price': 0.0014557449609684686\n",
            "\n",
            "Feature: size\n",
            "Mann-Whitney U statistic: 22595189354.5\n",
            "P-value: 0.0\n",
            "Correlation with 'price': -0.0007464076260547619\n",
            "\n",
            "Feature: type\n",
            "Mann-Whitney U statistic: 12706075671.5\n",
            "P-value: 0.0\n",
            "Correlation with 'price': 0.005601622393288011\n",
            "\n",
            "Feature: paint_color\n",
            "Mann-Whitney U statistic: 16714719278.5\n",
            "P-value: 0.0\n",
            "Correlation with 'price': 0.002704418707470369\n",
            "\n",
            "Feature: posting_date\n",
            "Mann-Whitney U statistic: 11033162.0\n",
            "P-value: 0.0006167637986168654\n",
            "Correlation with 'price': -6.659835845080448e-05\n",
            "\n"
          ]
        }
      ],
      "source": [
        "import numpy as np\n",
        "from scipy.stats import mannwhitneyu\n",
        "\n",
        "# Your dataset\n",
        "data = used_cars\n",
        "\n",
        "# Step 1: Create missing value indicators for each feature\n",
        "missing_indicators = used_cars.isnull().astype(int).add_suffix('_missing')\n",
        "\n",
        "# Concatenate the indicators with the original data\n",
        "data_with_indicators = pd.concat([data, missing_indicators], axis=1)\n",
        "\n",
        "# Step 2: Hypothesis testing and correlation analysis\n",
        "results = {}\n",
        "\n",
        "for feature in data.columns:\n",
        "    if data[feature].isnull().any():  # Check if feature has missing values\n",
        "        # Create subsets for missing and non-missing values\n",
        "        subset_missing = data_with_indicators[data_with_indicators[feature + '_missing'] == 1]['price']\n",
        "        subset_present = data_with_indicators[data_with_indicators[feature + '_missing'] == 0]['price']\n",
        "\n",
        "        # Perform Mann-Whitney U test\n",
        "        statistic, p_value = mannwhitneyu(subset_missing, subset_present)\n",
        "\n",
        "\n",
        "        correlation = data_with_indicators[feature + '_missing'].corr(data_with_indicators['price'])\n",
        "        # Store results\n",
        "        results[feature] = {\n",
        "            'statistic': statistic,\n",
        "            'p_value': p_value,\n",
        "            'correlation': correlation\n",
        "        }\n",
        "\n",
        "# Print results\n",
        "for feature, result in results.items():\n",
        "    print(f\"Feature: {feature}\")\n",
        "    print(f\"Mann-Whitney U statistic: {result['statistic']}\")\n",
        "    print(f\"P-value: {result['p_value']}\")\n",
        "    print(f\"Correlation with 'price': {result['correlation']}\\n\")\n",
        "\n",
        "\n"
      ]
    },
    {
      "cell_type": "code",
      "execution_count": null,
      "metadata": {
        "id": "BxdBPZgzqbnE",
        "colab": {
          "base_uri": "https://localhost:8080/",
          "height": 472
        },
        "outputId": "c13f49b5-679d-433f-9dd6-71d72683559a"
      },
      "outputs": [
        {
          "output_type": "display_data",
          "data": {
            "text/plain": [
              "<Figure size 640x480 with 1 Axes>"
            ],
            "image/png": "[encoded data removed]"
          },
          "metadata": {}
        }
      ],
      "source": [
        "import matplotlib.pyplot as plt\n",
        "import seaborn as sns\n",
        "from sklearn.impute import KNNImputer\n",
        "# Enable IterativeImputer before importing\n",
        "from sklearn.experimental import enable_iterative_imputer\n",
        "from sklearn.impute import IterativeImputer\n",
        "\n",
        "# Your dataset\n",
        "data = used_cars\n",
        "\n",
        "# Step 1: Analyze Outliers\n",
        "\n",
        "# a) Visualize outliers\n",
        "sns.boxplot(x='price', data=data)\n",
        "plt.title('Boxplot of Price')\n",
        "plt.show()\n",
        "\n",
        "sns.histplot(data['price'], kde=True)\n",
        "plt.title('Histogram of Price')\n",
        "plt.show()"
      ]
    },
    {
      "cell_type": "code",
      "source": [
        "# b) KNN or Iterative Imputer for missingness between 20% and 40%\n",
        "features_to_impute = []\n",
        "for feature in data.columns:\n",
        "    missing_percentage = data[feature].isnull().mean() * 100\n",
        "    if 20 <= missing_percentage <= 40:\n",
        "        features_to_impute.append(feature)\n",
        "\n",
        "imputer = KNNImputer(n_neighbors=5)  # Adjust n_neighbors as needed\n",
        "data[features_to_impute] = imputer.fit_transform(data[features_to_impute])\n",
        "\n",
        "\n",
        "imputer = IterativeImputer()  # You can specify an estimator, e.g., RandomForestRegressor\n",
        "data[features_to_impute] = imputer.fit_transform(data[features_to_impute])\n"
      ],
      "metadata": {
        "id": "rvmCTSBvOAgB"
      },
      "execution_count": null,
      "outputs": []
    },
    {
      "cell_type": "code",
      "source": [
        "\n",
        "# c) Mode Imputation or \"Unknown\" Category for categorical data\n",
        "for column in data.select_dtypes(include='object').columns:\n",
        "    missing_percentage = data[column].isnull().mean() * 100\n",
        "    if missing_percentage < 20:\n",
        "        data[column].fillna(data[column].mode().iloc[0], inplace=True)\n",
        "    else:\n",
        "        data[column].fillna('Unknown', inplace=True)\n",
        "\n",
        "# d) Feature Removal\n",
        "features_to_remove = []\n",
        "for feature in data.columns:\n",
        "    missing_percentage = data[feature].isnull().mean() * 100\n",
        "    if missing_percentage > 40 and abs(results[feature]['correlation']) < 0.2:\n",
        "        features_to_remove.append(feature)\n",
        "\n",
        "data = data.drop(columns=features_to_remove)\n",
        "\n",
        "# Step 4: Evaluate Imputation Strategies\n",
        "# ... (train and evaluate models on different imputed datasets)\n",
        "\n",
        "from sklearn.model_selection import train_test_split\n",
        "from sklearn.linear_model import LinearRegression\n",
        "from sklearn.metrics import mean_squared_error\n",
        "\n",
        "# Assuming 'data' is your DataFrame with imputed values\n",
        "\n",
        "# Split data into features (X) and target (y)\n",
        "X = data.drop('price', axis=1)  # Replace 'price' with your target variable\n",
        "y = data['price']\n",
        "\n",
        "# Split data into training and testing sets\n",
        "X_train, X_test, y_train, y_test = train_test_split(X, y, test_size=0.2, random_state=42)\n",
        "\n",
        "# Create a list to store results for different imputation strategies\n",
        "results = []\n",
        "\n",
        "# Evaluate different imputation strategies\n",
        "imputation_strategies = {\n",
        "    'Mean Imputation': data,  # Original data with mean imputation\n",
        "    'KNN Imputation': data,  # Data with KNN imputation (if applied)\n",
        "    'Iterative Imputation': data,  # Data with Iterative Imputation (if applied)\n",
        "    # Add more strategies as needed\n",
        "}\n",
        "\n",
        "for strategy_name, imputed_data in imputation_strategies.items():\n",
        "    # Select features and target for the current strategy\n",
        "    X_strategy = imputed_data.drop('price', axis=1)\n",
        "    y_strategy = imputed_data['price']\n",
        "\n",
        "    # Split data for the current strategy\n",
        "    X_train_strategy, X_test_strategy, y_train_strategy, y_test_strategy = train_test_split(\n",
        "        X_strategy, y_strategy, test_size=0.2, random_state=42\n",
        "    )\n",
        "\n",
        "    # Train a Linear Regression model\n",
        "    model = LinearRegression()\n",
        "    model.fit(X_train_strategy, y_train_strategy)\n",
        "\n",
        "    # Make predictions on the test set\n",
        "    y_pred = model.predict(X_test_strategy)\n",
        "\n",
        "    # Evaluate the model using Mean Squared Error\n",
        "    mse = mean_squared_error(y_test_strategy, y_pred)\n",
        "\n",
        "    # Store the results\n",
        "    results.append({'strategy': strategy_name, 'mse': mse})\n",
        "\n",
        "# Print the results\n",
        "for result in results:\n",
        "    print(f\"Imputation Strategy: {result['strategy']}, MSE: {result['mse']}\")"
      ],
      "metadata": {
        "id": "MENzV_rbQT5U"
      },
      "execution_count": null,
      "outputs": []
    }
  ],
  "metadata": {
    "colab": {
      "provenance": []
    },
    "kernelspec": {
      "display_name": "Python 3",
      "name": "python3"
    },
    "language_info": {
      "name": "python"
    }
  },
  "nbformat": 4,
  "nbformat_minor": 0
}